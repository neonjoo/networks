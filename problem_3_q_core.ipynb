{
 "cells": [
  {
   "cell_type": "markdown",
   "metadata": {},
   "source": [
    "# Problem 3: Emergence of the 3-core"
   ]
  },
  {
   "cell_type": "markdown",
   "metadata": {
    "collapsed": true
   },
   "source": [
    "## a) Analytical calculation"
   ]
  },
  {
   "cell_type": "markdown",
   "metadata": {},
   "source": [
    "In this section we numerically integrate the system of the five $d={0,1,2,3,4}$ analytical equations:\n",
    "\n",
    "$$\n",
    "\\frac{d}{dt}((1-t) p_d) = - \\frac{\\chi_d p_d}{\\bar \\chi} + \\frac{\\overline{d \\chi}}{\\bar \\chi} \\left( -\\frac{dp_d}{c} + \\frac{(d+1)p_{d+1}}{c} \\right)\n",
    "$$"
   ]
  },
  {
   "cell_type": "code",
   "execution_count": 28,
   "metadata": {},
   "outputs": [
    {
     "name": "stderr",
     "output_type": "stream",
     "text": [
      "/home/joo/.local/lib/python3.6/site-packages/scipy/integrate/odepack.py:218: ODEintWarning: Excess work done on this call (perhaps wrong Dfun type). Run with full_output = 1 to get quantitative information.\n",
      "  warnings.warn(warning_msg, ODEintWarning)\n"
     ]
    },
    {
     "name": "stdout",
     "output_type": "stream",
     "text": [
      "\n",
      "Pi at transition:\n",
      "0.67\n",
      "\n",
      "Fraction of the 3-core at the transition:\n",
      "0.528528528529\n"
     ]
    }
   ],
   "source": [
    "import numpy as np\n",
    "import matplotlib.pyplot as plt\n",
    "from networks_sup import *\n",
    "from scipy.integrate import odeint\n",
    "\n",
    "\n",
    "def find_nearest(array, tol):\n",
    "    for i in range(len(array)-1):\n",
    "        if np.sum(array[i+1]) < tol:\n",
    "            return i\n",
    "    return -1\n",
    "    \n",
    "def f(p, t):\n",
    "     p0 = p[0]\n",
    "     p1 = p[1]\n",
    "     p2 = p[2]\n",
    "     p3 = p[3]\n",
    "     p4 = p[4]\n",
    "     \n",
    "     bar = p0 + p1 + p2\n",
    "     dbar = p1 + 2*p2\n",
    "     c = p1 + 2*p2 + 3*p3 + 4*p4\n",
    "     \n",
    "     f0 = (p0 - p0/bar + dbar/bar/c * p1) / (1-t)\n",
    "     f1 = (p1 - p1/bar + dbar/bar/c * (-p1 + 2*p2)) / (1-t)\n",
    "     f2 = (p2 - p2/bar + dbar/bar/c * (-2*p2 + 3*p3)) / (1-t)\n",
    "     f3 = (p3 + dbar/bar/c * (-3*p3 + 4*p4)) / (1-t)\n",
    "     f4 = (p4 + dbar/bar/c * (-4*p4)) / (1-t)\n",
    "     \n",
    "     return [f0, f1, f2, f3, f4]\n",
    "\n",
    "\n",
    "empirical_all = np.load(\"sizes_1000_2.npy\")\n",
    "empirical = np.mean(empirical_all, 1)\n",
    "\n",
    "empirical_all = np.load(\"sizes_700_5.npy\")\n",
    "empirical2 = np.mean(empirical_all, 1)\n",
    "\n",
    "# number of probability points\n",
    "num = 201\n",
    "\n",
    "pis = np.linspace(0, 1, num)\n",
    "pis2 = np.linspace(0, 1, len(empirical))\n",
    "pis3 = np.linspace(0, 1, len(empirical2))\n",
    "\n",
    "core = np.zeros(num)\n",
    "\n",
    "t  = np.linspace(0, 1, 1000)\n",
    "\n",
    "for i in range(len(pis)-1):\n",
    "    pi = pis[i]\n",
    "    y0 = [0, 1-pi, 0, 0, pi]\n",
    "    \n",
    "    soln = odeint(f, y0, t)\n",
    "    p0 = soln[:, 0]\n",
    "    p1 = soln[:, 1]\n",
    "    p2 = soln[:, 2]\n",
    "    p3 = soln[:, 3]\n",
    "    p4 = soln[:, 4]\n",
    "    \n",
    "    nearest = find_nearest(p0+p1+p2, 0.00000001)\n",
    "    \n",
    "    if nearest > -1:\n",
    "        core[i] = (999-nearest)/999\n",
    "\n",
    "        \n",
    "core[-1] = 1\n",
    "np.save(\"integrated_3_core.npy\", core)\n",
    "print()\n",
    "\n",
    "for i in range(len(core)):\n",
    "    if core[i] > 0:\n",
    "        print(\"Pi at transition:\")\n",
    "        print(i / (num-1))\n",
    "        print()\n",
    "        print(\"Fraction of the 3-core at the transition:\")\n",
    "        print(core[i])\n",
    "        break"
   ]
  },
  {
   "cell_type": "markdown",
   "metadata": {},
   "source": [
    "## b) Numerical results for specific graph instances"
   ]
  },
  {
   "cell_type": "code",
   "execution_count": 1,
   "metadata": {},
   "outputs": [],
   "source": [
    "import numpy as np\n",
    "import matplotlib.pyplot as plt\n",
    "from networks_sup import *\n",
    "import sys\n",
    "\n",
    "sys.setrecursionlimit(5000)\n",
    "\n",
    "ana = np.load(\"integrated_3_core.npy\")\n",
    "ps2 = np.linspace(0,1, len(ana))\n",
    "\n",
    "\n",
    "\n",
    "# size of graph\n",
    "N = 100 # has to be >= 5\n",
    "\n",
    "times = 1 # runs per given pi\n",
    "\n",
    "num = 51\n",
    "ps = np.linspace(0,1, num)\n",
    "sizes = []\n",
    "\n",
    "q = 3\n",
    "\n",
    "for pi in ps:\n",
    "    size = []\n",
    "    for real in range(times):\n",
    "        graph = generate(N, pi)\n",
    "        new = q_core(graph, q)\n",
    "        new_values = list(new.graph_dict.values())\n",
    "        core_count = 0\n",
    "        for j in new_values:\n",
    "            if len(j) > 0:\n",
    "                core_count += 1\n",
    "        size.append(core_count)\n",
    "    sizes.append(size)\n",
    "    \n",
    "sizes = np.asarray(sizes) / N\n"
   ]
  },
  {
   "cell_type": "markdown",
   "metadata": {},
   "source": [
    "### Comparison"
   ]
  },
  {
   "cell_type": "code",
   "execution_count": 49,
   "metadata": {},
   "outputs": [
    {
     "data": {
      "image/png": "[encoded data removed]",
      "text/plain": [
       "<matplotlib.figure.Figure at 0x7fe9e4287898>"
      ]
     },
     "metadata": {},
     "output_type": "display_data"
    }
   ],
   "source": [
    "\n",
    "ana = np.load(\"integrated_3_core.npy\")\n",
    "ps2 = np.linspace(0,1, len(ana))\n",
    "\n",
    "empirical_all = np.load(\"sizes_1000_2.npy\")\n",
    "empirical = np.mean(empirical_all, 1)\n",
    "\n",
    "\n",
    "pis2 = np.linspace(0, 1, len(empirical))\n",
    "\n",
    "\n",
    "plt.figure()\n",
    "\n",
    "label = \"N = \" + str(N) + \", \" + str(times) + \" instances\"\n",
    "plt.plot(ps, np.mean(sizes, 1), '.', label=label)\n",
    "\n",
    "#plt.plot(pis2, empirical, 'rv', label=\"N=1000, 2 instances\")\n",
    "plt.plot(pis2, empirical_all[:,1], 'rv', label=\"N=1000, 1 instance\")\n",
    "plt.plot(pis2, empirical_all[:,0], 'gv', label=\"N=1000, 1 instance\")\n",
    "\n",
    "plt.plot(ps2, ana, 'k-', label=\"Analytical\")\n",
    "plt.grid()\n",
    "plt.legend()\n",
    "plt.show()"
   ]
  },
  {
   "cell_type": "code",
   "execution_count": null,
   "metadata": {
    "collapsed": true
   },
   "outputs": [],
   "source": []
  }
 ],
 "metadata": {
  "kernelspec": {
   "display_name": "Python 3",
   "language": "python",
   "name": "python3"
  },
  "language_info": {
   "codemirror_mode": {
    "name": "ipython",
    "version": 3
   },
   "file_extension": ".py",
   "mimetype": "text/x-python",
   "name": "python",
   "nbconvert_exporter": "python",
   "pygments_lexer": "ipython3",
   "version": "3.6.2"
  }
 },
 "nbformat": 4,
 "nbformat_minor": 2
}
