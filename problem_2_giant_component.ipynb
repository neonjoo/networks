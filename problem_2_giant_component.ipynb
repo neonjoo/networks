{
 "cells": [
  {
   "cell_type": "markdown",
   "metadata": {
    "collapsed": true
   },
   "source": [
    "# Problem 2: Emergence of the giant component"
   ]
  },
  {
   "cell_type": "markdown",
   "metadata": {},
   "source": [
    "## a) Analytical approach"
   ]
  },
  {
   "cell_type": "markdown",
   "metadata": {},
   "source": [
    "In this section we solve the equations for the probability $p$ of a vertex, reached by an edge, does not belong to the giant component:\n",
    "$$\n",
    "p = \\frac{1-\\pi}{1+3\\pi} + \\frac{4\\pi}{1+3\\pi} p^3\n",
    "$$"
   ]
  },
  {
   "cell_type": "code",
   "execution_count": 31,
   "metadata": {
    "scrolled": true
   },
   "outputs": [
    {
     "name": "stdout",
     "output_type": "stream",
     "text": [
      "Roots of the equation:\n",
      "[1, -(sqrt(pi) - 1)/(2*sqrt(pi)), -(sqrt(pi) + 1)/(2*sqrt(pi))]\n"
     ]
    }
   ],
   "source": [
    "import numpy as np\n",
    "from scipy.optimize import fsolve\n",
    "import sympy\n",
    "import matplotlib.pyplot as plt\n",
    "\n",
    "p, pi, gamma = sympy.symbols('p, pi, gamma')\n",
    "\n",
    "func_edge = 4*pi / (1+3*pi) * p**3 - p + (1-pi)/(1+3*pi)\n",
    "ps = sympy.solve(func_edge, p)\n",
    "\n",
    "print(\"Roots of the equation:\")\n",
    "print(ps)\n"
   ]
  },
  {
   "cell_type": "markdown",
   "metadata": {},
   "source": [
    "We find the following roots in terms of $\\pi$:\n",
    "$$ p_1 = 1 \\\\\n",
    "p_2 = -\\frac{\\sqrt{\\pi} - 1}{2\\sqrt{\\pi}} \\\\\n",
    "p_3 = -\\frac{\\sqrt{\\pi} + 1}{2\\sqrt{\\pi}}\n",
    "$$"
   ]
  },
  {
   "cell_type": "markdown",
   "metadata": {},
   "source": [
    "As we can see, $p_1$ is always a root. Here we are concerned only with $p_2$ as it is the only non-trivial root which may be positive for some values of $\\pi$."
   ]
  },
  {
   "cell_type": "markdown",
   "metadata": {},
   "source": [
    "Next we need to solve the equation for the probability $1-\\gamma$ of a vertex not belonging to the giant component:\n",
    "$$\n",
    "1 - \\gamma = (1-\\pi)\\left(\\frac{1-\\pi}{1+3\\pi} + \\frac{4\\pi}{1+3\\pi} p^3\\right) + \\pi\\left(\\frac{1-\\pi}{1+3\\pi} + \\frac{4\\pi}{1+3\\pi} p^3\\right)^4\n",
    "$$"
   ]
  },
  {
   "cell_type": "code",
   "execution_count": 32,
   "metadata": {
    "scrolled": true
   },
   "outputs": [
    {
     "name": "stdout",
     "output_type": "stream",
     "text": [
      "Solution for gamma in terms of pi:\n",
      "[(-3*pi**(3/2) + 15*sqrt(pi) + pi - 5)/(8*sqrt(pi))]\n"
     ]
    }
   ],
   "source": [
    "p = ps[1]\n",
    "func_main = (1-pi) *p + pi * p**3 - 1 + gamma\n",
    "\n",
    "solution = sympy.solve(func_main, gamma)\n",
    "analytic_sol = sympy.solve(solution)\n",
    "\n",
    "print(\"Solution for gamma in terms of pi:\")\n",
    "print(solution)\n"
   ]
  },
  {
   "cell_type": "markdown",
   "metadata": {},
   "source": [
    "Or in a more convenient notation:\n",
    "\n",
    "$$\n",
    "\\gamma(\\pi) = \\frac{-3\\pi^{3/2} + 15\\sqrt{\\pi} + \\pi -5}{8 \\sqrt{\\pi}}\n",
    "$$"
   ]
  },
  {
   "cell_type": "code",
   "execution_count": 52,
   "metadata": {},
   "outputs": [
    {
     "name": "stdout",
     "output_type": "stream",
     "text": [
      "Roots of the above equation:\n",
      "[{pi: 1/9}, {pi: 5}]\n"
     ]
    }
   ],
   "source": [
    "print(\"Roots of the above equation:\")\n",
    "print(analytic_sol)"
   ]
  },
  {
   "cell_type": "markdown",
   "metadata": {},
   "source": [
    "So the critical value of $\\pi$ at which the giant component emerges:\n",
    "$$\n",
    "\\pi_c = \\frac{1}{9}\n",
    "$$"
   ]
  },
  {
   "cell_type": "markdown",
   "metadata": {},
   "source": [
    "# b) Numerical results for individual graphs"
   ]
  },
  {
   "cell_type": "code",
   "execution_count": 26,
   "metadata": {},
   "outputs": [
    {
     "data": {
      "image/png": "[encoded data removed]",
      "text/plain": [
       "<matplotlib.figure.Figure at 0x7fcd4abe9710>"
      ]
     },
     "metadata": {},
     "output_type": "display_data"
    }
   ],
   "source": [
    "import numpy as np\n",
    "import matplotlib.pyplot as plt\n",
    "from networks_sup import *\n",
    "\n",
    "# size of graph\n",
    "N = 200 # has to be >= 5\n",
    "\n",
    "sizes = []\n",
    "\n",
    "# iterations per given pi\n",
    "times = 10\n",
    "\n",
    "# number of probability values\n",
    "num = 51\n",
    "ps = np.linspace(0,1, num)\n",
    "\n",
    "for pi in ps:\n",
    "    size = []\n",
    "    for iteration in range(times):\n",
    "\n",
    "        graph = generate(N, pi)\n",
    "        graph.find_components()\n",
    "        size.append(graph.largest_component)\n",
    "    sizes.append(size)\n",
    "    \n",
    "sizes = np.asarray(sizes) / N"
   ]
  },
  {
   "cell_type": "markdown",
   "metadata": {},
   "source": [
    "# c) Comparing analytics and numerics"
   ]
  },
  {
   "cell_type": "code",
   "execution_count": 50,
   "metadata": {
    "scrolled": true
   },
   "outputs": [
    {
     "data": {
      "image/png": "[encoded data removed]",
      "text/plain": [
       "<matplotlib.figure.Figure at 0x7fcd4aa0ee10>"
      ]
     },
     "metadata": {},
     "output_type": "display_data"
    }
   ],
   "source": [
    "gamma = sympy.lambdify(pi, solution)\n",
    "\n",
    "num_sol = np.load(\"component_200.npy\")\n",
    "\n",
    "xx = np.linspace(0.1,1)\n",
    "\n",
    "plt.figure()\n",
    "plt.plot(xx, gamma(xx)[0], label=\"Analytical\")\n",
    "plt.plot(np.linspace(0, 1, len(num_sol)), np.mean(num_sol,1), label=\"Numerical\")\n",
    "plt.xlabel(r'$\\pi$')\n",
    "plt.legend(loc=5)\n",
    "plt.ylabel(r'$\\gamma$')\n",
    "plt.grid()\n",
    "plt.show()"
   ]
  },
  {
   "cell_type": "markdown",
   "metadata": {},
   "source": [
    "Discuss finite size effects."
   ]
  }
 ],
 "metadata": {
  "kernelspec": {
   "display_name": "Python 3",
   "language": "python",
   "name": "python3"
  },
  "language_info": {
   "codemirror_mode": {
    "name": "ipython",
    "version": 3
   },
   "file_extension": ".py",
   "mimetype": "text/x-python",
   "name": "python",
   "nbconvert_exporter": "python",
   "pygments_lexer": "ipython3",
   "version": "3.6.2"
  }
 },
 "nbformat": 4,
 "nbformat_minor": 2
}
